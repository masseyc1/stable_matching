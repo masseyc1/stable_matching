{
 "cells": [
  {
   "cell_type": "code",
   "execution_count": 1,
   "metadata": {
    "collapsed": true
   },
   "outputs": [],
   "source": [
    "from stable_matching import StableMatching"
   ]
  },
  {
   "cell_type": "code",
   "execution_count": 17,
   "metadata": {},
   "outputs": [],
   "source": [
    "doctors = set(range(26))\n",
    "hospitals = set([x for x in 'abcdefghijklmnopqrstuvwxyz'])"
   ]
  },
  {
   "cell_type": "code",
   "execution_count": 33,
   "metadata": {
    "collapsed": true
   },
   "outputs": [],
   "source": [
    "from random import shuffle\n",
    "import numpy as np\n",
    "\n",
    "def solve_random_instance():\n",
    "    doctor_prefs = {}\n",
    "    for doc in doctors:\n",
    "        h_list = list(hospitals)\n",
    "        shuffle(h_list)\n",
    "        doctor_prefs[doc] = h_list\n",
    "        matching = StableMatching(doctors, hospitals, doctor_prefs, {})\n",
    "    doctor_matches, hospital_matches = matching.compute_matching()\n",
    "    return doctor_matches, doctor_prefs\n",
    "\n",
    "def worst_match(matches, prefs):\n",
    "    worst = 0\n",
    "    for idx, match_idx in matches.items():\n",
    "        quality = prefs[idx].index(match_idx)\n",
    "        if quality > worst:\n",
    "            worst = quality\n",
    "    return worst\n",
    "\n",
    "def average_match(matches, prefs):\n",
    "    indices = [prefs[idx].index(match_idx) for idx, match_idx in matches.items()]\n",
    "    return np.mean(indices)"
   ]
  },
  {
   "cell_type": "code",
   "execution_count": 34,
   "metadata": {},
   "outputs": [
    {
     "name": "stdout",
     "output_type": "stream",
     "text": [
      "worst match = 13\n",
      "average match = 1.5\n"
     ]
    }
   ],
   "source": [
    "doctor_matches, doctor_prefs = solve_random_instance()\n",
    "print(\"worst match = {}\".format(worst_match(doctor_matches, doctor_prefs)))\n",
    "print(\"average match = {}\".format(average_match(doctor_matches, doctor_prefs)))"
   ]
  },
  {
   "cell_type": "code",
   "execution_count": 35,
   "metadata": {},
   "outputs": [
    {
     "name": "stdout",
     "output_type": "stream",
     "text": [
      "worst match = 25\n",
      "average match = 2.4615384615384617\n"
     ]
    }
   ],
   "source": [
    "doctor_matches, doctor_prefs = solve_random_instance()\n",
    "print(\"worst match = {}\".format(worst_match(doctor_matches, doctor_prefs)))\n",
    "print(\"average match = {}\".format(average_match(doctor_matches, doctor_prefs)))"
   ]
  },
  {
   "cell_type": "code",
   "execution_count": 36,
   "metadata": {},
   "outputs": [
    {
     "name": "stdout",
     "output_type": "stream",
     "text": [
      "worst match = 18\n",
      "average match = 2.269230769230769\n"
     ]
    }
   ],
   "source": [
    "doctor_matches, doctor_prefs = solve_random_instance()\n",
    "print(\"worst match = {}\".format(worst_match(doctor_matches, doctor_prefs)))\n",
    "print(\"average match = {}\".format(average_match(doctor_matches, doctor_prefs)))"
   ]
  },
  {
   "cell_type": "code",
   "execution_count": 37,
   "metadata": {},
   "outputs": [
    {
     "name": "stdout",
     "output_type": "stream",
     "text": [
      "worst match = 20\n",
      "average match = 1.7692307692307692\n"
     ]
    }
   ],
   "source": [
    "doctor_matches, doctor_prefs = solve_random_instance()\n",
    "print(\"worst match = {}\".format(worst_match(doctor_matches, doctor_prefs)))\n",
    "print(\"average match = {}\".format(average_match(doctor_matches, doctor_prefs)))"
   ]
  },
  {
   "cell_type": "code",
   "execution_count": 38,
   "metadata": {},
   "outputs": [
    {
     "name": "stdout",
     "output_type": "stream",
     "text": [
      "worst match = 22\n",
      "average match = 1.8461538461538463\n"
     ]
    }
   ],
   "source": [
    "doctor_matches, doctor_prefs = solve_random_instance()\n",
    "print(\"worst match = {}\".format(worst_match(doctor_matches, doctor_prefs)))\n",
    "print(\"average match = {}\".format(average_match(doctor_matches, doctor_prefs)))"
   ]
  },
  {
   "cell_type": "code",
   "execution_count": 31,
   "metadata": {},
   "outputs": [
    {
     "data": {
      "text/plain": [
       "12"
      ]
     },
     "execution_count": 31,
     "metadata": {},
     "output_type": "execute_result"
    }
   ],
   "source": [
    "worst_match_produced(doctor_matches, doctor_prefs)"
   ]
  },
  {
   "cell_type": "code",
   "execution_count": 32,
   "metadata": {},
   "outputs": [
    {
     "data": {
      "text/plain": [
       "1.4615384615384615"
      ]
     },
     "execution_count": 32,
     "metadata": {},
     "output_type": "execute_result"
    }
   ],
   "source": [
    "average_match_index(doctor_matches, doctor_prefs)"
   ]
  },
  {
   "cell_type": "code",
   "execution_count": 23,
   "metadata": {},
   "outputs": [
    {
     "data": {
      "text/plain": [
       "{0: 'v',\n",
       " 1: 'p',\n",
       " 2: 'a',\n",
       " 3: 'w',\n",
       " 4: 'd',\n",
       " 5: 't',\n",
       " 6: 'e',\n",
       " 7: 's',\n",
       " 8: 'i',\n",
       " 9: 'm',\n",
       " 10: 'k',\n",
       " 11: 'x',\n",
       " 12: 'b',\n",
       " 13: 'g',\n",
       " 14: 'n',\n",
       " 15: 'z',\n",
       " 16: 'q',\n",
       " 17: 'y',\n",
       " 18: 'h',\n",
       " 19: 'j',\n",
       " 20: 'c',\n",
       " 21: 'l',\n",
       " 22: 'o',\n",
       " 23: 'u',\n",
       " 24: 'f',\n",
       " 25: 'r'}"
      ]
     },
     "execution_count": 23,
     "metadata": {},
     "output_type": "execute_result"
    }
   ],
   "source": [
    "doctor_matches"
   ]
  },
  {
   "cell_type": "code",
   "execution_count": null,
   "metadata": {
    "collapsed": true
   },
   "outputs": [],
   "source": []
  }
 ],
 "metadata": {
  "kernelspec": {
   "display_name": "Python 3",
   "language": "python",
   "name": "python3"
  },
  "language_info": {
   "codemirror_mode": {
    "name": "ipython",
    "version": 3
   },
   "file_extension": ".py",
   "mimetype": "text/x-python",
   "name": "python",
   "nbconvert_exporter": "python",
   "pygments_lexer": "ipython3",
   "version": "3.6.3"
  }
 },
 "nbformat": 4,
 "nbformat_minor": 2
}
